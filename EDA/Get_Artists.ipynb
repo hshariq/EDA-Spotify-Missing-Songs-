{
 "cells": [
  {
   "attachments": {},
   "cell_type": "markdown",
   "metadata": {},
   "source": [
    "# DATA ENRICHING: ADDING ARTIST NAMES USING SPOTIFY API"
   ]
  },
  {
   "attachments": {},
   "cell_type": "markdown",
   "metadata": {},
   "source": [
    "Since the Spotify API function that was supposed to get the missing song names wasn't getting all song names in the free version,\n",
    "And we're using song names to get artist names from the API, all artist_name values aren't filled. \n",
    "Song names along with their ID's are being stored in a csv called artists to later be joined with the same csv."
   ]
  },
  {
   "cell_type": "code",
   "execution_count": null,
   "metadata": {},
   "outputs": [],
   "source": [
    "#one of the steps of data wrangling is \"Enhancement\", that is adding data to ur dataset. So that is what we are doing here, we are adding the column \"artist_name\" by using the spotify api to get the name of songs artists\n",
    "#this will be using the song_name, to add artist name, it requires client id and secret which can not be shared.\n",
    "#the output of 14k+ enteries are in the excel sheet, because the spotify APIs basic version has requests limit, and that was crossed, and to fill all we \n",
    "#will be reuqring an exrtension in quota which has professional pre req. We have talked to Sir he said it is alright since we have around 40k+ vlaues for songs here\n",
    "#this is simply using the Spotify API to go and get the song name for the corresponding song_name, and filling it inthe artist_name column\n",
    "\n",
    "import spotipy\n",
    "import pandas as pd\n",
    "from spotipy.oauth2 import SpotifyClientCredentials\n",
    "\n",
    "# Set up the Spotify API client\n",
    "client_credentials_manager = SpotifyClientCredentials(client_id='59ae7570bacd479292f11a1de98871f5', client_secret='2e29ecbccfb64079ab267fedcb1430cf')\n",
    "sp = spotipy.Spotify(client_credentials_manager=client_credentials_manager)\n",
    "\n",
    "songs = pd.read_csv('clean_songs.csv',low_memory=False)\n",
    "\n",
    "songs = songs[['id', 'song_name']]\n",
    "\n",
    "# Create a new column called \"artist_name\"\n",
    "songs['artist_name'] = \"\"\n",
    "#print(\"column made\")\n",
    "\n",
    "# Loop over each row in the dataframe\n",
    "for index, row in songs.iterrows():\n",
    "    # Get the song name from the current row\n",
    "    song_name = row['song_name']\n",
    "    #print(song_name)\n",
    "    # Skip to the next row if the song name is missing\n",
    "    if pd.isnull(song_name):\n",
    "        continue\n",
    "    \n",
    "    # Use the Spotify search API to search for the song\n",
    "    results = sp.search(q=song_name, type='track')\n",
    "    \n",
    "    # Extract the artist name from the first result, if available\n",
    "    if len(results['tracks']['items']) > 0:\n",
    "        artist_name = results['tracks']['items'][0]['artists'][0]['name']\n",
    "        #print(artist_name)\n",
    "    else:\n",
    "        artist_name = \"Unknown\"\n",
    "    \n",
    "    # Set the artist name in the \"artist_name\" column of the current row\n",
    "    songs.loc[index, 'artist_name'] = artist_name\n",
    "\n"
   ]
  },
  {
   "cell_type": "code",
   "execution_count": null,
   "metadata": {},
   "outputs": [],
   "source": [
    "# Save the modified dataframe back to the Excel sheet\n",
    "songs.to_csv('artists.csv', index=False)"
   ]
  }
 ],
 "metadata": {
  "kernelspec": {
   "display_name": "Python 3",
   "language": "python",
   "name": "python3"
  },
  "language_info": {
   "codemirror_mode": {
    "name": "ipython",
    "version": 3
   },
   "file_extension": ".py",
   "mimetype": "text/x-python",
   "name": "python",
   "nbconvert_exporter": "python",
   "pygments_lexer": "ipython3",
   "version": "3.10.7"
  },
  "orig_nbformat": 4
 },
 "nbformat": 4,
 "nbformat_minor": 2
}
